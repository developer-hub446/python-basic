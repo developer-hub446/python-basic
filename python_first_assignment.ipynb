{
  "nbformat": 4,
  "nbformat_minor": 0,
  "metadata": {
    "colab": {
      "provenance": []
    },
    "kernelspec": {
      "name": "python3",
      "display_name": "Python 3"
    },
    "language_info": {
      "name": "python"
    }
  },
  "cells": [
    {
      "cell_type": "markdown",
      "source": [
        "                     *** python basic question***\n",
        "\n",
        "          1. What is Python, and why is it popular?\n",
        "\n",
        "          ->Python is a high-level, versatile programming language known for its readability and ease of use. It's popular for web development, data science, machine learning, and scripting due to its simple syntax, extensive libraries, and strong community support.It is popular because of follwing points:\n",
        "          * ease of learning\n",
        "          * versatlity\n",
        "          * a lot of libraries and huge active community\n",
        "\n",
        "          2.What is an interpreter in Python?\n",
        "\n",
        "          ->An interpreter in Python is a program that directly executes Python code without requiring it to be compiled into machine language beforehand.\n",
        "\n",
        "          3.What are pre-defined keywords in Python?\n",
        "\n",
        "          ->Predefined keywords in Python are reserved words that hold special meaning and functionality within the language.we cannot use pre-defined keywords as variable name.\n",
        "\n",
        "          4.Can keywords be used as variable names?\n",
        "\n",
        "          ->No,we cannot use keywords as varibale name.\n",
        "          keywords have predefined meaning and if we use keywords as varaible it give error.\n",
        "\n",
        "          5.What is mutability in Python ?\n",
        "\n",
        "          ->The meaning of mutability in python is that we can change the value after we have created it.\n",
        "\n",
        "          6.Why are lists mutable, but tuples are immutable ?\n",
        "\n",
        "          ->A list is designed to be a flexible, dynamic data structure.\n",
        "          You can add, remove, or change elements.\n",
        "          It's built to allow modifications after creation.\n",
        "\n",
        "          A tuple is meant to be a fixed, unchangeable collection of values.\n",
        "          You cannot change the contents once it's created.\n",
        "          This makes tuples hashable, so they can be used as dictionary keys or in sets.\n",
        "          They also offer performance advantages (faster, use less memory).\n",
        "\n",
        "\n",
        "          7.What is the difference between “==” and “is” operators in Python ?\n",
        "\n",
        "          -> \"==\" operator is used to compare the value of  an object. It compares whether values are same or not.\n",
        "          \"is\" operator is uesd to check the identity of the two objects.\n",
        "\n",
        "          8.What are logical operators in Python ?\n",
        "\n",
        "          ->Logical operators in Python are used to combine conditional statements and evaluate expressions based on their truth values (True or False).There are three types of logical operator -\n",
        "          * and - True if both are true\n",
        "          * or - True if one is true\n",
        "          * not - Reverse condition\n",
        "\n",
        "          9.What is type casting in Python?\n",
        "\n",
        "          ->Type casting is also knpown as type conversion.It is the process of converting value from one data tyep to another data type.\n",
        "          * int() - converts value to integer\n",
        "          * float() -converts value to floating point      number\n",
        "          * str() - converts value to string\n",
        "          * bool() - converts value to boolean\n",
        "\n",
        "          10.What is the difference between implicit and explicit type casting ?\n",
        "\n",
        "          -> Implicit is a type of conversion that is performed automatically by the compiler or interpretr without using explicit instruction from the programmer.\n",
        "                          Explicit is a type of conversion that is not performed automatically .It is done by using casting operator or function provided by the language.\n",
        "\n",
        "        11.What is the purpose of conditional statements in Python ?\n",
        "\n",
        "        -> The main puprose of conditional statement in python is to execute certain blocks of code based on whether a condition is true or false.It is of three types -\n",
        "        * if- statement\n",
        "        *if-else statement\n",
        "        *if-elif-else statement\n",
        "\n",
        "\n",
        "        12.How does the elif statement work?\n",
        "\n",
        "        -> The elif if statement works on multiple condition.The working of elif can be understand in the following ways -\n",
        "        * at first the 'if' statement is checked.If the 'if' statement is true then code within the 'if' statement is executed and if it is false then it checks the elif statement.\n",
        "\n",
        "        * Now the 'elif' statement is checked based on the condition of programe .If the condition in the 'elif' statement is true then the code within the 'elif' statement is executed.\n",
        "\n",
        "        *Now at last the 'else' condition is checked in the programe. when all the 'if' anf 'elif' condition are false the 'else' statement is exdcuted.\n",
        "\n",
        "\n",
        "        13.What is the difference between for and while loops ?\n",
        "\n",
        "        ->'For' loop is basically used when the number of iterations is known that is we exactly know how many times to run the loop.\n",
        "                                  'while' loop works on the basis of the conditio given to it.The 'while' loop is repeated until the condition becomes false.\n",
        "\n",
        "       14.Describe a scenario where a while loop is more suitable than a for loop.\n",
        "\n",
        "       ->A while loop is more suitable than a for loop in a condition where  we don't know the number of iteration in advance that is if we want to go through with a string and we dont know the ending iteration beacuse the string is based on the users input so it may vary according to the users input.\n",
        "       so in this case we prefer while loop over the for loop for better and smooth execution of the programe.\n",
        "\n",
        "        \n",
        "\n",
        "\n",
        "\n"
      ],
      "metadata": {
        "id": "kZCDYOMEnKqq"
      }
    },
    {
      "cell_type": "code",
      "source": [
        "                                                #practical question\n",
        "# 1. Write a Python program to print \"Hello, World!\"\n",
        "\n",
        "print(\"Hello, world !\")\n"
      ],
      "metadata": {
        "colab": {
          "base_uri": "https://localhost:8080/"
        },
        "id": "u6c1p1Csk-mM",
        "outputId": "c784e020-a871-4f00-d611-554ed7f93225"
      },
      "execution_count": 1,
      "outputs": [
        {
          "output_type": "stream",
          "name": "stdout",
          "text": [
            "Hello, world !\n"
          ]
        }
      ]
    },
    {
      "cell_type": "code",
      "source": [
        "# 2.Write a Python program that displays your name and age.\n",
        "\n",
        "print(\"My name is Rohan kumar\")\n",
        "print(\"I am 21 years old\")"
      ],
      "metadata": {
        "colab": {
          "base_uri": "https://localhost:8080/"
        },
        "id": "hn3iWe4Bu0TR",
        "outputId": "b4d25490-44cb-4763-e2f5-7d5e1f0f841e"
      },
      "execution_count": 2,
      "outputs": [
        {
          "output_type": "stream",
          "name": "stdout",
          "text": [
            "My name is Rohan kumar\n",
            "I am 21 years old\n"
          ]
        }
      ]
    },
    {
      "cell_type": "code",
      "execution_count": 6,
      "metadata": {
        "colab": {
          "base_uri": "https://localhost:8080/"
        },
        "id": "s1RLkKqulhSQ",
        "outputId": "8e97bae7-bff1-4645-a07a-844e6d2a1b95"
      },
      "outputs": [
        {
          "output_type": "stream",
          "name": "stdout",
          "text": [
            "\n",
            "Here is a list of the Python keywords.  Enter any keyword to get more help.\n",
            "\n",
            "False               class               from                or\n",
            "None                continue            global              pass\n",
            "True                def                 if                  raise\n",
            "and                 del                 import              return\n",
            "as                  elif                in                  try\n",
            "assert              else                is                  while\n",
            "async               except              lambda              with\n",
            "await               finally             nonlocal            yield\n",
            "break               for                 not                 \n",
            "\n"
          ]
        }
      ],
      "source": [
        "# 3. Write code to print all the pre-defined keywords in Python using the keyword library.\n",
        "\n",
        "help('keywords')"
      ]
    },
    {
      "cell_type": "code",
      "source": [
        "# 4.Write a program that checks if a given word is a Python keyword.\n",
        "import keyword\n",
        "word = input(\"enter the word :\")\n",
        "if word in keyword.kwlist :\n",
        "  print(word,\"is a python keyword\")\n",
        "else :\n",
        "    print(word,\"is not a python keyword\")"
      ],
      "metadata": {
        "colab": {
          "base_uri": "https://localhost:8080/"
        },
        "id": "1IiVYG57wWQT",
        "outputId": "a9f9d05c-694d-4ad3-f13b-01ce761c1185"
      },
      "execution_count": 5,
      "outputs": [
        {
          "output_type": "stream",
          "name": "stdout",
          "text": [
            "enter the word :else\n",
            "else is a python keyword\n"
          ]
        }
      ]
    },
    {
      "cell_type": "code",
      "source": [
        "#  5. Create a list and tuple in Python, and demonstrate how attempting to change an element works differently\n",
        "# for each\n",
        "\n",
        "list= [10,20,30,40,50,60]\n",
        "print(list)\n",
        "list[5]=100\n",
        "print(list)\n",
        "print(\"=\"*80)\n",
        "tup = (10,20,30,40,50,60)\n",
        "print(tup)\n",
        "tup[0]=1\n",
        "print(tup)"
      ],
      "metadata": {
        "colab": {
          "base_uri": "https://localhost:8080/",
          "height": 263
        },
        "id": "GgmKMbPmx093",
        "outputId": "4d240af4-9248-4b9b-b5b9-84d31861b2f7"
      },
      "execution_count": 8,
      "outputs": [
        {
          "output_type": "stream",
          "name": "stdout",
          "text": [
            "[10, 20, 30, 40, 50, 60]\n",
            "[10, 20, 30, 40, 50, 100]\n",
            "================================================================================\n",
            "(10, 20, 30, 40, 50, 60)\n"
          ]
        },
        {
          "output_type": "error",
          "ename": "TypeError",
          "evalue": "'tuple' object does not support item assignment",
          "traceback": [
            "\u001b[0;31m---------------------------------------------------------------------------\u001b[0m",
            "\u001b[0;31mTypeError\u001b[0m                                 Traceback (most recent call last)",
            "\u001b[0;32m/tmp/ipython-input-2363382167.py\u001b[0m in \u001b[0;36m<cell line: 0>\u001b[0;34m()\u001b[0m\n\u001b[1;32m      9\u001b[0m \u001b[0mtup\u001b[0m \u001b[0;34m=\u001b[0m \u001b[0;34m(\u001b[0m\u001b[0;36m10\u001b[0m\u001b[0;34m,\u001b[0m\u001b[0;36m20\u001b[0m\u001b[0;34m,\u001b[0m\u001b[0;36m30\u001b[0m\u001b[0;34m,\u001b[0m\u001b[0;36m40\u001b[0m\u001b[0;34m,\u001b[0m\u001b[0;36m50\u001b[0m\u001b[0;34m,\u001b[0m\u001b[0;36m60\u001b[0m\u001b[0;34m)\u001b[0m\u001b[0;34m\u001b[0m\u001b[0;34m\u001b[0m\u001b[0m\n\u001b[1;32m     10\u001b[0m \u001b[0mprint\u001b[0m\u001b[0;34m(\u001b[0m\u001b[0mtup\u001b[0m\u001b[0;34m)\u001b[0m\u001b[0;34m\u001b[0m\u001b[0;34m\u001b[0m\u001b[0m\n\u001b[0;32m---> 11\u001b[0;31m \u001b[0mtup\u001b[0m\u001b[0;34m[\u001b[0m\u001b[0;36m0\u001b[0m\u001b[0;34m]\u001b[0m\u001b[0;34m=\u001b[0m\u001b[0;36m1\u001b[0m\u001b[0;34m\u001b[0m\u001b[0;34m\u001b[0m\u001b[0m\n\u001b[0m\u001b[1;32m     12\u001b[0m \u001b[0mprint\u001b[0m\u001b[0;34m(\u001b[0m\u001b[0mtup\u001b[0m\u001b[0;34m)\u001b[0m\u001b[0;34m\u001b[0m\u001b[0;34m\u001b[0m\u001b[0m\n",
            "\u001b[0;31mTypeError\u001b[0m: 'tuple' object does not support item assignment"
          ]
        }
      ]
    },
    {
      "cell_type": "code",
      "source": [
        "# 6. Write a function to demonstrate the behavior of mutable and immutable arguments.\n",
        "\n",
        "\n",
        "def modify_data(num, my_list):\n",
        "    # Immutable: integers cannot be changed in place\n",
        "    num = num + 10\n",
        "\n",
        "    # Mutable: lists can be changed in place\n",
        "    my_list.append(100)\n",
        "\n",
        "    print(\"Inside function - num:\", num)\n",
        "    print(\"Inside function - my_list:\", my_list)\n",
        "\n",
        "\n",
        "# Immutable variable (integer)\n",
        "x = 5\n",
        "\n",
        "# Mutable variable (list)\n",
        "y = [1, 2, 3]\n",
        "\n",
        "print(\"Before function call - x:\", x)\n",
        "print(\"Before function call - y:\", y)\n",
        "\n",
        "# Call the function\n",
        "modify_data(x, y)\n",
        "\n",
        "print(\"After function call - x:\", x)     # unchanged\n",
        "print(\"After function call - y:\", y)     # changed\n",
        "\n"
      ],
      "metadata": {
        "id": "0r-Fm8HzzPHG"
      },
      "execution_count": null,
      "outputs": []
    },
    {
      "cell_type": "code",
      "source": [
        "# 7. Write a program that performs basic arithmetic operations on two user-input numbers.\n",
        "\n",
        "num1 = int(input(\"Enter the first number :\"))\n",
        "num2 = int(input(\"Enter the second number :\"))\n",
        "print(\"=\" * 100)\n",
        "print(\"Addition of \",num1,\"and\",num2,\"is\",num1 + num2)\n",
        "print(\"subtraction of \",num1,\"and\",num2,\"is\",num1 - num2)\n",
        "print(\"multiplication of \",num1,\"and\",num2,\"is\",num1 * num2)\n",
        "print(\"Division of \",num1,\"and\",num2,\"is\",num1 / num2)\n",
        "print(\"Floor division of \",num1,\"and\",num2,\"is\",num1 //num2)\n",
        "print(\"power of \",num1,\"and\",num2,\"is\",num1 ** num2)\n",
        "print(\"Modulus of \",num1,\"and\",num2,\"is\",num1 % num2)"
      ],
      "metadata": {
        "colab": {
          "base_uri": "https://localhost:8080/"
        },
        "id": "lt6U6HNyzlPI",
        "outputId": "e38b2f68-8452-4fc2-fb8d-202d9b68f970"
      },
      "execution_count": 1,
      "outputs": [
        {
          "output_type": "stream",
          "name": "stdout",
          "text": [
            "Enter the first number :10\n",
            "Enter the second number :5\n",
            "====================================================================================================\n",
            "Addition of  10 and 5 is 15\n",
            "subtraction of  10 and 5 is 5\n",
            "multiplication of  10 and 5 is 50\n",
            "Division of  10 and 5 is 2.0\n",
            "Floor division of  10 and 5 is 2\n",
            "power of  10 and 5 is 100000\n",
            "Modulus of  10 and 5 is 0\n"
          ]
        }
      ]
    },
    {
      "cell_type": "code",
      "source": [
        "# 8. Write a program to demonstrate the use of logical operators.\n",
        "x = True\n",
        "y = False\n",
        "\n",
        "print(\"x and y is :\",x and y)  # use of and opearator- if both values are True then it is true otherswise false\n",
        "print(\"x and y is :\",x or y) # use of or operator - if any one value is true then it is true\n",
        "print(\" not x is :\",not x) # use of not operator if it is true then it becomes false or vice versa"
      ],
      "metadata": {
        "colab": {
          "base_uri": "https://localhost:8080/"
        },
        "id": "E-jE-ftq1Uvt",
        "outputId": "7667653d-ab73-4d95-ff16-e2a73ed5a059"
      },
      "execution_count": 12,
      "outputs": [
        {
          "output_type": "stream",
          "name": "stdout",
          "text": [
            "x and y is : False\n",
            "x and y is : True\n",
            " not x is : False\n"
          ]
        }
      ]
    },
    {
      "cell_type": "code",
      "source": [
        "#9. Write a Python program to convert user input from string to integer, float, and boolean types.\n",
        "\n",
        "val = input(\"Enter the value :\")\n",
        "print(type(val))\n",
        "val1=int(val)\n",
        "print(type(val1))\n",
        "val=float(val)\n",
        "print(type(val))\n",
        "val=bool(val)\n",
        "print(type(val))\n"
      ],
      "metadata": {
        "colab": {
          "base_uri": "https://localhost:8080/"
        },
        "id": "lBikg3f33nxj",
        "outputId": "a7ff3e9d-71e6-49c7-f758-a7d8d828da37"
      },
      "execution_count": 7,
      "outputs": [
        {
          "output_type": "stream",
          "name": "stdout",
          "text": [
            "Enter the value :4\n",
            "<class 'str'>\n",
            "<class 'int'>\n",
            "<class 'float'>\n",
            "<class 'bool'>\n"
          ]
        }
      ]
    },
    {
      "cell_type": "code",
      "source": [
        "#  10. Write code to demonstrate type casting with list elements.\n",
        "\n",
        "str_num = [\"10\",\"20\",\"30\",\"40\"]\n",
        "\n",
        "int_num = []\n",
        "\n",
        "for val in str_num :\n",
        "  int_num.append(int(val))\n",
        "\n",
        "print(\"original string is :\",str_num)\n",
        "print(\"type casted string is :\",int_num)\n"
      ],
      "metadata": {
        "colab": {
          "base_uri": "https://localhost:8080/"
        },
        "id": "ddjxrSgvd0ez",
        "outputId": "dcf9ca7f-5224-41f8-f21a-4ac4d2bcb18b"
      },
      "execution_count": 2,
      "outputs": [
        {
          "output_type": "stream",
          "name": "stdout",
          "text": [
            "original string is : ['10', '20', '30', '40']\n",
            "type casted string is : [10, 20, 30, 40]\n"
          ]
        }
      ]
    },
    {
      "cell_type": "code",
      "source": [
        "# 11. Write a program that checks if a number is positive, negative, or zero.\n",
        "\n",
        "num = int(input(\"Emter the number :\"))\n",
        "\n",
        "if num==0 :\n",
        "  print(num,\"is a zero number\")\n",
        "elif num>=1 :\n",
        "  print(num,\"is a positive number\")\n",
        "else :\n",
        "  print(num,\"is a negative number\")"
      ],
      "metadata": {
        "id": "u6byqgYkfC5k"
      },
      "execution_count": null,
      "outputs": []
    },
    {
      "cell_type": "code",
      "source": [
        "# 12. Write a for loop to print numbers from 1 to 10.\n",
        "for i in range(1 ,11) :\n",
        "  print(i)"
      ],
      "metadata": {
        "id": "80Jw7uuJjZdJ"
      },
      "execution_count": null,
      "outputs": []
    },
    {
      "cell_type": "code",
      "source": [
        "# 13. Write a Python program to find the sum of all even numbers between 1 and 50.\n",
        "num=0\n",
        "for i in range(2,51,2) :\n",
        "   num = i + num\n",
        "\n",
        "print(\"sum all of even number are :\",num)"
      ],
      "metadata": {
        "colab": {
          "base_uri": "https://localhost:8080/"
        },
        "id": "-3tkgQpLktju",
        "outputId": "607df464-f613-4c2c-da2c-70e421df2648"
      },
      "execution_count": 8,
      "outputs": [
        {
          "output_type": "stream",
          "name": "stdout",
          "text": [
            "sum all of even number are : 650\n"
          ]
        }
      ]
    },
    {
      "cell_type": "code",
      "source": [
        "#  14. Write a program to reverse a string using a while loop.\n",
        "\n",
        "#taking string as a input from the user\n",
        "org_str = input(\"Enetr the str :\")\n",
        "\n",
        "#initializing empty str for storing reverse string\n",
        "rev_str =\"\"\n",
        "\n",
        "# finding the length of the string\n",
        "length = len(org_str)\n",
        "\n",
        "# finding the last index of the string\n",
        "index = length-1\n",
        "\n",
        "# declearing while loop from last index to index 0\n",
        "while index >= 0:\n",
        "  #storing the reverse string in the empty str\n",
        "  rev_str = rev_str + org_str[index]\n",
        "  index = index-1\n",
        "\n",
        "print(\"the original string is =\",org_str)\n",
        "print(\"the reverse string is =\",rev_str)"
      ],
      "metadata": {
        "colab": {
          "base_uri": "https://localhost:8080/"
        },
        "id": "hPVfNa9Yp1az",
        "outputId": "65b1132a-3479-4738-c58c-a2946e410192"
      },
      "execution_count": 1,
      "outputs": [
        {
          "output_type": "stream",
          "name": "stdout",
          "text": [
            "Enetr the str :welcome\n",
            "the original string is = welcome\n",
            "the reverse string is = emoclew\n"
          ]
        }
      ]
    },
    {
      "cell_type": "code",
      "source": [
        " #15. Write a Python program to calculate the factorial of a number provided by the user using a while loop.\n",
        "\n",
        "num = int(input(\"eneter the number :\"))\n",
        "\n",
        "fact = 1\n",
        "\n",
        "if num < 0 :\n",
        "  print(\"factorial of negative number is not defined :\")\n",
        "elif num ==0 :\n",
        "  print(\"factorial of 0 is 1\")\n",
        "else :\n",
        "  while num > 0 :\n",
        "    fact = fact * num\n",
        "    num = num-1\n",
        "\n",
        "\n",
        "print(\" The factorial is =\",fact)\n"
      ],
      "metadata": {
        "colab": {
          "base_uri": "https://localhost:8080/"
        },
        "id": "TX-nXO2vsBDt",
        "outputId": "de7d8b73-a4e4-477d-948a-060e7b43d22f"
      },
      "execution_count": 10,
      "outputs": [
        {
          "output_type": "stream",
          "name": "stdout",
          "text": [
            "eneter the number :4\n",
            " The factorial of 0 is = 24\n"
          ]
        }
      ]
    }
  ]
}